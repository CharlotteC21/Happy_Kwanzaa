{
 "cells": [
  {
   "cell_type": "code",
   "execution_count": 16,
   "id": "72fb674c",
   "metadata": {},
   "outputs": [],
   "source": [
    "import numpy as np\n",
    "import matplotlib.pyplot as plt"
   ]
  },
  {
   "cell_type": "code",
   "execution_count": 41,
   "id": "41a97fcc",
   "metadata": {},
   "outputs": [
    {
     "data": {
      "image/png": "[encoded data removed]",
      "text/plain": [
       "<Figure size 432x288 with 1 Axes>"
      ]
     },
     "metadata": {
      "needs_background": "light"
     },
     "output_type": "display_data"
    }
   ],
   "source": [
    "# create a dataset\n",
    "height = [30, 30, 30, 40, 30, 30, 30]\n",
    "bars = ('1', '2', '3', '4', '5', '6', '7')\n",
    "x_pos = np.arange(len(bars))\n",
    "\n",
    "# Create bars w/ diff colors\n",
    "plt.bar(x_pos, height, color=['red', 'red', 'red', 'black', 'green', 'green', 'green'], edgecolor='blue')\n",
    "\n",
    "# Create names on the x-axis\n",
    "plt.xticks(x_pos, bars)\n",
    "plt.title('Happy Kwanzaa!', fontsize=15)\n",
    "\n",
    "# Show graph\n",
    "plt.show()"
   ]
  }
 ],
 "metadata": {
  "kernelspec": {
   "display_name": "Python 3.8.8 64-bit ('base': conda)",
   "language": "python",
   "name": "python388jvsc74a57bd054f1f1dfdb3a4926ad466fd7a8517819ad48dd9e58dfe7700d71f4d91a0df6c0"
  },
  "language_info": {
   "codemirror_mode": {
    "name": "ipython",
    "version": 3
   },
   "file_extension": ".py",
   "mimetype": "text/x-python",
   "name": "python",
   "nbconvert_exporter": "python",
   "pygments_lexer": "ipython3",
   "version": "3.8.8"
  }
 },
 "nbformat": 4,
 "nbformat_minor": 5
}
